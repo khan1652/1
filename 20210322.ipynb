{
  "nbformat": 4,
  "nbformat_minor": 0,
  "metadata": {
    "colab": {
      "name": "Untitled6.ipynb",
      "provenance": [],
      "authorship_tag": "ABX9TyM1C+/hnB1saEPK/7MPopWQ",
      "include_colab_link": true
    },
    "kernelspec": {
      "name": "python3",
      "display_name": "Python 3"
    },
    "language_info": {
      "name": "python"
    }
  },
  "cells": [
    {
      "cell_type": "markdown",
      "metadata": {
        "id": "view-in-github",
        "colab_type": "text"
      },
      "source": [
        "<a href=\"https://colab.research.google.com/github/khan1652/class2021Spring/blob/main/20210322.ipynb\" target=\"_parent\"><img src=\"https://colab.research.google.com/assets/colab-badge.svg\" alt=\"Open In Colab\"/></a>"
      ]
    },
    {
      "cell_type": "code",
      "metadata": {
        "id": "QSrU-mEdW_lb"
      },
      "source": [
        "def func1(a,b):\n",
        "  return a*x+b\n",
        "  result = func1(1,2)\n",
        "  print(result)"
      ],
      "execution_count": 8,
      "outputs": []
    },
    {
      "cell_type": "code",
      "metadata": {
        "id": "s27srhVsXreE"
      },
      "source": [
        "def func2(a,x,b,c):\n",
        "  return a*x**2+b*x+c\n",
        "  result = func2(1,3,2,4)\n",
        "  print(result)"
      ],
      "execution_count": 5,
      "outputs": []
    }
  ]
}