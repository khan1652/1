{
  "nbformat": 4,
  "nbformat_minor": 0,
  "metadata": {
    "colab": {
      "name": "test.ipynb",
      "provenance": [],
      "authorship_tag": "ABX9TyO51/fP6lcim2V6sK+vAK0Z",
      "include_colab_link": true
    },
    "kernelspec": {
      "name": "python3",
      "display_name": "Python 3"
    }
  },
  "cells": [
    {
      "cell_type": "markdown",
      "metadata": {
        "id": "view-in-github",
        "colab_type": "text"
      },
      "source": [
        "<a href=\"https://colab.research.google.com/github/khan1652/class2021Spring/blob/main/test.ipynb\" target=\"_parent\"><img src=\"https://colab.research.google.com/assets/colab-badge.svg\" alt=\"Open In Colab\"/></a>"
      ]
    },
    {
      "cell_type": "code",
      "metadata": {
        "colab": {
          "base_uri": "https://localhost:8080/",
          "height": 0
        },
        "id": "Wo9bmQcdVsYq",
        "outputId": "d6e61c2c-cb5d-4d05-d734-73f5f5cf2955"
      },
      "source": [
        "a = 1\r\n",
        "b = 1\r\n",
        "c = a + b\r\n",
        "c\r\n"
      ],
      "execution_count": 1,
      "outputs": [
        {
          "output_type": "execute_result",
          "data": {
            "text/plain": [
              "2"
            ]
          },
          "metadata": {
            "tags": []
          },
          "execution_count": 1
        }
      ]
    },
    {
      "cell_type": "markdown",
      "metadata": {
        "id": "tnXEYBWcWAVw"
      },
      "source": [
        "##우리는 파이썬을 배우게 됩니다."
      ]
    },
    {
      "cell_type": "markdown",
      "metadata": {
        "id": "dptTiVZ9WKQ9"
      },
      "source": [
        "#파이썬을 어디서 배우나요?\r\n",
        "###Jump to python"
      ]
    }
  ]
}