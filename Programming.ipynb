{
  "nbformat": 4,
  "nbformat_minor": 0,
  "metadata": {
    "colab": {
      "name": "Untitled0.ipynb",
      "provenance": [],
      "authorship_tag": "ABX9TyMwflahadXF5igMDam8Eggr",
      "include_colab_link": true
    },
    "kernelspec": {
      "name": "python3",
      "display_name": "Python 3"
    }
  },
  "cells": [
    {
      "cell_type": "markdown",
      "metadata": {
        "id": "view-in-github",
        "colab_type": "text"
      },
      "source": [
        "<a href=\"https://colab.research.google.com/github/khan1652/class2021Spring/blob/main/Programming.ipynb\" target=\"_parent\"><img src=\"https://colab.research.google.com/assets/colab-badge.svg\" alt=\"Open In Colab\"/></a>"
      ]
    },
    {
      "cell_type": "markdown",
      "metadata": {
        "id": "BS6mjfOCpJs6"
      },
      "source": [
        "# 컴퓨터 언어\r\n",
        "## 변수: a = 1 이라고 했을 때, a는 변수 (variable)\r\n",
        "= 표시는 일반적인 같다는 표시가 아님 (오른쪽의 내용을 왼쪽에 assign한다는 뜻)\r\n",
        "## 제어문: 컴퓨터 언어에서의 문법\r\n",
        "\r\n",
        "\r\n",
        "1.   반복 for\r\n",
        "2.   조건 if\r\n",
        "\r\n",
        "\r\n",
        "## 함수: 입출력 관계에서 중간에 어떠한 변화가 있을 때 (input에 대한 output이 이루어짐)\r\n",
        "가장 쉬운 형태는 1차 함수 (y=ax+b)\r\n",
        "AI, 인간의 몸, 자동차 모두 함수의 예시"
      ]
    }
  ]
}